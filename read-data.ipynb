{
 "cells": [
  {
   "cell_type": "code",
   "execution_count": 5,
   "id": "7d93a3dc",
   "metadata": {},
   "outputs": [
    {
     "name": "stdout",
     "output_type": "stream",
     "text": [
      "Collecting requests\n",
      "  Downloading requests-2.32.5-py3-none-any.whl.metadata (4.9 kB)\n",
      "Collecting charset_normalizer<4,>=2 (from requests)\n",
      "  Downloading charset_normalizer-3.4.3-cp312-cp312-manylinux2014_x86_64.manylinux_2_17_x86_64.manylinux_2_28_x86_64.whl.metadata (36 kB)\n",
      "Collecting idna<4,>=2.5 (from requests)\n",
      "  Using cached idna-3.10-py3-none-any.whl.metadata (10 kB)\n",
      "Collecting urllib3<3,>=1.21.1 (from requests)\n",
      "  Using cached urllib3-2.5.0-py3-none-any.whl.metadata (6.5 kB)\n",
      "Collecting certifi>=2017.4.17 (from requests)\n",
      "  Downloading certifi-2025.8.3-py3-none-any.whl.metadata (2.4 kB)\n",
      "Downloading requests-2.32.5-py3-none-any.whl (64 kB)\n",
      "Downloading charset_normalizer-3.4.3-cp312-cp312-manylinux2014_x86_64.manylinux_2_17_x86_64.manylinux_2_28_x86_64.whl (151 kB)\n",
      "Using cached idna-3.10-py3-none-any.whl (70 kB)\n",
      "Using cached urllib3-2.5.0-py3-none-any.whl (129 kB)\n",
      "Downloading certifi-2025.8.3-py3-none-any.whl (161 kB)\n",
      "Installing collected packages: urllib3, idna, charset_normalizer, certifi, requests\n",
      "\u001b[2K   \u001b[90m━━━━━━━━━━━━━━━━━━━━━━━━━━━━━━━━━━━━━━━━\u001b[0m \u001b[32m5/5\u001b[0m [requests]1/5\u001b[0m [idna]\n",
      "\u001b[1A\u001b[2KSuccessfully installed certifi-2025.8.3 charset_normalizer-3.4.3 idna-3.10 requests-2.32.5 urllib3-2.5.0\n"
     ]
    }
   ],
   "source": [
    "!pip install requests"
   ]
  },
  {
   "cell_type": "code",
   "execution_count": 7,
   "id": "d53d5c2d",
   "metadata": {},
   "outputs": [],
   "source": [
    "import requests\n",
    "import pandas as pd\n",
    "from io import StringIO"
   ]
  },
  {
   "cell_type": "code",
   "execution_count": 9,
   "id": "11aaebf9",
   "metadata": {},
   "outputs": [
    {
     "name": "stdout",
     "output_type": "stream",
     "text": [
      "Reading CSV from GitHub...\n",
      "Successfully loaded data using requests:\n",
      "Shape: (2000, 10)\n",
      "Columns: ['date', 'platform', 'account', 'campaign', 'country', 'device', 'spend', 'clicks', 'impressions', 'conversions']\n",
      "\n",
      "==================================================\n",
      "DATA SUMMARY:\n",
      "==================================================\n",
      "Total rows: 2000\n",
      "Total columns: 10\n",
      "\n",
      "Column data types:\n",
      "date            object\n",
      "platform        object\n",
      "account         object\n",
      "campaign        object\n",
      "country         object\n",
      "device          object\n",
      "spend          float64\n",
      "clicks           int64\n",
      "impressions      int64\n",
      "conversions      int64\n",
      "dtype: object\n",
      "\n",
      "Basic statistics:\n",
      "             spend       clicks   impressions  conversions\n",
      "count  2000.000000  2000.000000   2000.000000  2000.000000\n",
      "mean    845.382160   465.776000  25689.913500    27.458500\n",
      "std     376.355343   248.882744  15993.415778    19.221525\n",
      "min     200.250000    63.000000   2070.000000     1.000000\n",
      "25%     510.640000   259.750000  13368.500000    13.000000\n",
      "50%     837.185000   432.000000  21765.000000    22.000000\n",
      "75%    1162.720000   624.250000  34855.750000    37.000000\n",
      "max    1499.620000  1168.000000  84240.000000   107.000000\n"
     ]
    }
   ],
   "source": [
    "def read_csv_requests():\n",
    "    url = \"https://raw.githubusercontent.com/apfurlan/8-figure-data-engineer/refs/heads/main/data/ads_spend.csv\"\n",
    "    \n",
    "    try:\n",
    "        # Make GET request\n",
    "        response = requests.get(url)\n",
    "        response.raise_for_status()  # Raise exception for bad status codes\n",
    "        \n",
    "        # Read CSV content into pandas DataFrame\n",
    "        csv_content = StringIO(response.text)\n",
    "        df = pd.read_csv(csv_content)\n",
    "        \n",
    "        print(\"Successfully loaded data using requests:\")\n",
    "        print(f\"Shape: {df.shape}\")\n",
    "        print(f\"Columns: {list(df.columns)}\")\n",
    "        return df\n",
    "    except requests.exceptions.RequestException as e:\n",
    "        print(f\"HTTP request error: {e}\")\n",
    "        return None\n",
    "    except Exception as e:\n",
    "        print(f\"Error processing CSV: {e}\")\n",
    "        return None\n",
    "\n",
    "\n",
    "print(\"Reading CSV from GitHub...\")\n",
    "\n",
    "# Use the pandas method (simpler)\n",
    "df =  read_csv_requests()\n",
    "\n",
    "if df is not None:\n",
    "    # Display basic information about the data\n",
    "    print(\"\\n\" + \"=\"*50)\n",
    "    print(\"DATA SUMMARY:\")\n",
    "    print(\"=\"*50)\n",
    "    print(f\"Total rows: {len(df)}\")\n",
    "    print(f\"Total columns: {len(df.columns)}\")\n",
    "    print(\"\\nColumn data types:\")\n",
    "    print(df.dtypes)\n",
    "    print(\"\\nBasic statistics:\")\n",
    "    print(df.describe())"
   ]
  },
  {
   "cell_type": "code",
   "execution_count": null,
   "id": "3c0ae3be",
   "metadata": {},
   "outputs": [],
   "source": []
  }
 ],
 "metadata": {
  "kernelspec": {
   "display_name": ".venv",
   "language": "python",
   "name": "python3"
  },
  "language_info": {
   "codemirror_mode": {
    "name": "ipython",
    "version": 3
   },
   "file_extension": ".py",
   "mimetype": "text/x-python",
   "name": "python",
   "nbconvert_exporter": "python",
   "pygments_lexer": "ipython3",
   "version": "3.12.3"
  }
 },
 "nbformat": 4,
 "nbformat_minor": 5
}
